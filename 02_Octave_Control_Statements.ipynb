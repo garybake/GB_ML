{
 "cells": [
  {
   "cell_type": "markdown",
   "metadata": {},
   "source": [
    "https://www.coursera.org/learn/machine-learning/lecture/LRQnl/control-statements-for-while-if-statement"
   ]
  },
  {
   "cell_type": "code",
   "execution_count": 3,
   "metadata": {},
   "outputs": [],
   "source": [
    "v = zeros(10, 1);  % Column vector"
   ]
  },
  {
   "cell_type": "code",
   "execution_count": 5,
   "metadata": {},
   "outputs": [
    {
     "name": "stdout",
     "output_type": "stream",
     "text": [
      "v =\n",
      "\n",
      "      2\n",
      "      4\n",
      "      8\n",
      "     16\n",
      "     32\n",
      "     64\n",
      "    128\n",
      "    256\n",
      "    512\n",
      "   1024\n",
      "\n"
     ]
    }
   ],
   "source": [
    "for i=1:10,    % For i in 1 to 10\n",
    "   v(i) = 2^i;\n",
    "end\n",
    "v"
   ]
  },
  {
   "cell_type": "code",
   "execution_count": 7,
   "metadata": {},
   "outputs": [
    {
     "name": "stdout",
     "output_type": "stream",
     "text": [
      "indexes =\n",
      "\n",
      "    1    2    3    4    5    6    7    8    9   10\n",
      "\n"
     ]
    }
   ],
   "source": [
    "indexes = 1:10"
   ]
  },
  {
   "cell_type": "code",
   "execution_count": 9,
   "metadata": {},
   "outputs": [
    {
     "name": "stdout",
     "output_type": "stream",
     "text": [
      " 1\n",
      " 2\n",
      " 3\n",
      " 4\n",
      " 5\n",
      " 6\n",
      " 7\n",
      " 8\n",
      " 9\n",
      " 10\n"
     ]
    }
   ],
   "source": [
    "for i=indexes, disp(i), end;"
   ]
  },
  {
   "cell_type": "code",
   "execution_count": 11,
   "metadata": {},
   "outputs": [
    {
     "name": "stdout",
     "output_type": "stream",
     "text": [
      "v =\n",
      "\n",
      "    100\n",
      "    100\n",
      "    100\n",
      "    100\n",
      "     32\n",
      "     64\n",
      "    128\n",
      "    256\n",
      "    512\n",
      "   1024\n",
      "\n"
     ]
    }
   ],
   "source": [
    "i = 1; \n",
    "while i < 5; v(i) = 100; i = i + 1; end;\n",
    "v"
   ]
  },
  {
   "cell_type": "code",
   "execution_count": 12,
   "metadata": {
    "collapsed": true
   },
   "outputs": [],
   "source": [
    "i = 1;\n",
    "while true,\n",
    "    v(i) = 999;\n",
    "    i = i + 1;\n",
    "    if i == 6,\n",
    "        break;\n",
    "    end;\n",
    "end;"
   ]
  },
  {
   "cell_type": "code",
   "execution_count": 13,
   "metadata": {},
   "outputs": [
    {
     "name": "stdout",
     "output_type": "stream",
     "text": [
      "the value is two\n"
     ]
    }
   ],
   "source": [
    "v(1) = 2;\n",
    "if v(1) == 1,\n",
    "    disp('the value is one');\n",
    "elseif v(1) == 2,\n",
    "    disp('the value is two');\n",
    "else\n",
    "    disp('the value is not one or two');\n",
    "end;"
   ]
  },
  {
   "cell_type": "code",
   "execution_count": 14,
   "metadata": {
    "collapsed": true
   },
   "outputs": [],
   "source": [
    "% quit % exit octave"
   ]
  },
  {
   "cell_type": "markdown",
   "metadata": {},
   "source": [
    "Define a function in a .m file"
   ]
  },
  {
   "cell_type": "code",
   "execution_count": 19,
   "metadata": {},
   "outputs": [
    {
     "name": "stdout",
     "output_type": "stream",
     "text": [
      "ans =  25\n"
     ]
    }
   ],
   "source": [
    "squareThisNumber(5)  % From squareThisNumber.m"
   ]
  },
  {
   "cell_type": "code",
   "execution_count": 20,
   "metadata": {},
   "outputs": [
    {
     "name": "stdout",
     "output_type": "stream",
     "text": [
      "ans = /home/gary/Devel/python/coursera_ml\n"
     ]
    }
   ],
   "source": [
    "pwd"
   ]
  },
  {
   "cell_type": "code",
   "execution_count": 21,
   "metadata": {
    "collapsed": true
   },
   "outputs": [],
   "source": [
    "% addpath('~/mylibs)  % add search path for modules"
   ]
  },
  {
   "cell_type": "markdown",
   "metadata": {},
   "source": [
    "Can have functions that return multiple values"
   ]
  },
  {
   "cell_type": "code",
   "execution_count": 23,
   "metadata": {},
   "outputs": [
    {
     "name": "stdout",
     "output_type": "stream",
     "text": [
      "a =  25\n",
      "b =  125\n"
     ]
    }
   ],
   "source": [
    "[a, b] = squareAndCubeThisNumber(5);\n",
    "a\n",
    "b"
   ]
  },
  {
   "cell_type": "code",
   "execution_count": 30,
   "metadata": {},
   "outputs": [
    {
     "name": "stdout",
     "output_type": "stream",
     "text": [
      "X =\n",
      "\n",
      "   1   1\n",
      "   1   2\n",
      "   1   3\n",
      "\n",
      "y =\n",
      "\n",
      "   1\n",
      "   2\n",
      "   3\n",
      "\n",
      "theta =\n",
      "\n",
      "   0\n",
      "   1\n",
      "\n"
     ]
    }
   ],
   "source": [
    "X = [1 1; 1 2; 1 3]\n",
    "y = [1; 2; 3]\n",
    "theta = [0; 1]"
   ]
  },
  {
   "cell_type": "code",
   "execution_count": 31,
   "metadata": {},
   "outputs": [
    {
     "name": "stdout",
     "output_type": "stream",
     "text": [
      "sqrErrors =\n",
      "\n",
      "   0\n",
      "   0\n",
      "   0\n",
      "\n",
      "j = 0\n"
     ]
    }
   ],
   "source": [
    "j = costfunctionJ(X, y, theta)"
   ]
  },
  {
   "cell_type": "code",
   "execution_count": 33,
   "metadata": {},
   "outputs": [
    {
     "name": "stdout",
     "output_type": "stream",
     "text": [
      "theta =\n",
      "\n",
      "   0\n",
      "   0\n",
      "\n",
      "sqrErrors =\n",
      "\n",
      "   1\n",
      "   4\n",
      "   9\n",
      "\n",
      "j =  2.3333\n"
     ]
    }
   ],
   "source": [
    "theta = [0;0]\n",
    "j = costfunctionJ(X, y, theta)"
   ]
  },
  {
   "cell_type": "code",
   "execution_count": 35,
   "metadata": {},
   "outputs": [
    {
     "name": "stdout",
     "output_type": "stream",
     "text": [
      "ans =  2.3333\n"
     ]
    }
   ],
   "source": [
    "(1^2 + 2^2 + 3^2) / (2 * 3)  % Validate"
   ]
  }
 ],
 "metadata": {
  "kernelspec": {
   "display_name": "Octave",
   "language": "octave",
   "name": "octave"
  },
  "language_info": {
   "file_extension": ".m",
   "help_links": [
    {
     "text": "GNU Octave",
     "url": "https://www.gnu.org/software/octave/support.html"
    },
    {
     "text": "Octave Kernel",
     "url": "https://github.com/Calysto/octave_kernel"
    },
    {
     "text": "MetaKernel Magics",
     "url": "https://github.com/calysto/metakernel/blob/master/metakernel/magics/README.md"
    }
   ],
   "mimetype": "text/x-octave",
   "name": "octave",
   "version": "4.2.1"
  }
 },
 "nbformat": 4,
 "nbformat_minor": 2
}
